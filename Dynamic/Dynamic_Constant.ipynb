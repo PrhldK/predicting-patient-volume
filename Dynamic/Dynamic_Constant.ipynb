{
 "cells": [
  {
   "cell_type": "code",
   "execution_count": 1,
   "metadata": {},
   "outputs": [
    {
     "name": "stderr",
     "output_type": "stream",
     "text": [
      "/anaconda3/lib/python3.6/site-packages/h5py/__init__.py:36: FutureWarning: Conversion of the second argument of issubdtype from `float` to `np.floating` is deprecated. In future, it will be treated as `np.float64 == np.dtype(float).type`.\n",
      "  from ._conv import register_converters as _register_converters\n"
     ]
    }
   ],
   "source": [
    "%run ../MLHCExperiment-Common-Val17Test18.ipynb"
   ]
  },
  {
   "cell_type": "code",
   "execution_count": 2,
   "metadata": {},
   "outputs": [],
   "source": [
    "all_visits = read_data()\n",
    "all_visits = all_visits.where(all_visits[\"AdjCount\"] > 0).dropna()"
   ]
  },
  {
   "cell_type": "code",
   "execution_count": 3,
   "metadata": {},
   "outputs": [],
   "source": [
    "all_visits.index = pd.to_datetime(all_visits.index)"
   ]
  },
  {
   "cell_type": "code",
   "execution_count": 4,
   "metadata": {},
   "outputs": [],
   "source": [
    "def constant_class(c):\n",
    "    if c['isHoliday'] == 1 or c['isSaturday'] == 1 or c['isSunday'] == 1:\n",
    "        return 0\n",
    "    elif c['isWinter'] == 1:\n",
    "        return 1\n",
    "    elif c['isSpring'] == 1:\n",
    "        return 2\n",
    "    elif c['isSummer'] == 1:\n",
    "        return 3\n",
    "    else: # Autumn\n",
    "        return 4\n",
    "    \n",
    "all_visits['constant_class'] = all_visits.apply(constant_class, axis=1)\n",
    "\n",
    "def filter_label(x, label, const_class):\n",
    "    return x.loc[TRAIN_START:TRAIN_END][label].where(x[\"constant_class\"]==const_class).dropna()\n",
    "\n",
    "wknd_holiday_avg = np.mean(filter_label(all_visits, \"AdjCount\", 0))\n",
    "winter_avg = np.mean(filter_label(all_visits, \"AdjCount\", 1))\n",
    "spring_avg = np.mean(filter_label(all_visits, \"AdjCount\", 2))\n",
    "summer_avg = np.mean(filter_label(all_visits, \"AdjCount\", 3))\n",
    "autumn_avg = np.mean(filter_label(all_visits, \"AdjCount\", 4))\n",
    "\n",
    "wknd_holiday_avg_icd8 = np.mean(filter_label(all_visits, ICD8_LABEL, 0))\n",
    "winter_avg_icd8 = np.mean(filter_label(all_visits, ICD8_LABEL, 1))\n",
    "spring_avg_icd8 = np.mean(filter_label(all_visits, ICD8_LABEL, 2))\n",
    "summer_avg_icd8 = np.mean(filter_label(all_visits, ICD8_LABEL, 3))\n",
    "autumn_avg_icd8 = np.mean(filter_label(all_visits, ICD8_LABEL, 4))\n",
    "\n",
    "wknd_holiday_avg_icd8opp = np.mean(filter_label(all_visits, ICD8OPP_LABEL, 0))\n",
    "winter_avg_icd8opp = np.mean(filter_label(all_visits, ICD8OPP_LABEL, 1))\n",
    "spring_avg_icd8opp = np.mean(filter_label(all_visits, ICD8OPP_LABEL, 2))\n",
    "summer_avg_icd8opp = np.mean(filter_label(all_visits, ICD8OPP_LABEL, 3))\n",
    "autumn_avg_icd8opp = np.mean(filter_label(all_visits, ICD8OPP_LABEL, 4))\n",
    "\n",
    "def pred_constant(c):\n",
    "    if c['constant_class'] == 0:\n",
    "        return wknd_holiday_avg\n",
    "    elif c['constant_class'] == 1:\n",
    "        return winter_avg\n",
    "    elif c['constant_class'] == 2:\n",
    "        return spring_avg\n",
    "    elif c['constant_class'] == 3:\n",
    "        return summer_avg\n",
    "    else:\n",
    "        return autumn_avg\n",
    "    \n",
    "def pred_constant_icd8(c):\n",
    "    if c['constant_class'] == 0:\n",
    "        return wknd_holiday_avg_icd8\n",
    "    elif c['constant_class'] == 1:\n",
    "        return winter_avg_icd8\n",
    "    elif c['constant_class'] == 2:\n",
    "        return spring_avg_icd8\n",
    "    elif c['constant_class'] == 3:\n",
    "        return summer_avg_icd8\n",
    "    else:\n",
    "        return autumn_avg_icd8\n",
    "    \n",
    "def pred_constant_icd8opp(c):\n",
    "    if c['constant_class'] == 0:\n",
    "        return wknd_holiday_avg_icd8opp\n",
    "    elif c['constant_class'] == 1:\n",
    "        return winter_avg_icd8opp\n",
    "    elif c['constant_class'] == 2:\n",
    "        return spring_avg_icd8opp\n",
    "    elif c['constant_class'] == 3:\n",
    "        return summer_avg_icd8opp\n",
    "    else:\n",
    "        return autumn_avg_icd8opp\n",
    "    \n",
    "all_visits['y_pred'] = all_visits.apply(pred_constant, axis=1)\n",
    "all_visits['y_pred_icd8'] = all_visits.apply(pred_constant_icd8, axis=1)\n",
    "all_visits['y_pred_icd8opp'] = all_visits.apply(pred_constant_icd8opp, axis=1)"
   ]
  },
  {
   "cell_type": "code",
   "execution_count": 5,
   "metadata": {},
   "outputs": [],
   "source": [
    "y_actual = all_visits.loc[TEST_START:][\"AdjCount\"]\n",
    "y_pred = all_visits.loc[TEST_START:][\"y_pred\"]\n",
    "\n",
    "y_actual_icd8 = all_visits.loc[TEST_START:][ICD8_LABEL]\n",
    "y_pred_icd8 = all_visits.loc[TEST_START:][\"y_pred_icd8\"]\n",
    "\n",
    "y_actual_icd8opp = all_visits.loc[TEST_START:][ICD8OPP_LABEL]\n",
    "y_pred_icd8opp = all_visits.loc[TEST_START:][\"y_pred_icd8opp\"]"
   ]
  },
  {
   "cell_type": "code",
   "execution_count": 6,
   "metadata": {},
   "outputs": [
    {
     "name": "stdout",
     "output_type": "stream",
     "text": [
      "Mean squared error: 2.447\n",
      "Root mean squared error: 1.564\n",
      "Mean squared error: 0.671\n",
      "Root mean squared error: 0.819\n",
      "Mean squared error: 1.095\n",
      "Root mean squared error: 1.046\n"
     ]
    }
   ],
   "source": [
    "print(\"Mean squared error: %.3f\" % mean_squared_error(y_actual, y_pred))\n",
    "print(\"Root mean squared error: %.3f\" % np.sqrt(mean_squared_error(y_actual, y_pred)))\n",
    "\n",
    "print(\"Mean squared error: %.3f\" % mean_squared_error(y_actual_icd8, y_pred_icd8))\n",
    "print(\"Root mean squared error: %.3f\" % np.sqrt(mean_squared_error(y_actual_icd8, y_pred_icd8)))\n",
    "\n",
    "print(\"Mean squared error: %.3f\" % mean_squared_error(y_actual_icd8opp, y_pred_icd8opp))\n",
    "print(\"Root mean squared error: %.3f\" % np.sqrt(mean_squared_error(y_actual_icd8opp, y_pred_icd8opp)))"
   ]
  },
  {
   "cell_type": "code",
   "execution_count": 7,
   "metadata": {},
   "outputs": [
    {
     "data": {
      "image/png": "[encoded data removed]",
      "text/plain": [
       "<Figure size 1080x504 with 1 Axes>"
      ]
     },
     "metadata": {},
     "output_type": "display_data"
    }
   ],
   "source": [
    "fig, ax = plt.subplots(figsize=(15,7))\n",
    "    \n",
    "plt.scatter(all_visits.loc[TEST_START:].index, y_actual, marker='.', color='gray', label='actual sick visits')\n",
    "plt.scatter(all_visits.loc[TEST_START:].index, y_pred, marker='.', color='red', label='predicted sick visits')\n",
    "plt.legend(loc=1)\n",
    "plt.title(\"Constant Model\")\n",
    "plt.xlabel(\"Date\")\n",
    "plt.ylabel(\"Sick Visits\")\n",
    "plt.show()"
   ]
  },
  {
   "cell_type": "code",
   "execution_count": null,
   "metadata": {},
   "outputs": [],
   "source": []
  },
  {
   "cell_type": "code",
   "execution_count": null,
   "metadata": {},
   "outputs": [],
   "source": []
  }
 ],
 "metadata": {
  "kernelspec": {
   "display_name": "Python 3",
   "language": "python",
   "name": "python3"
  },
  "language_info": {
   "codemirror_mode": {
    "name": "ipython",
    "version": 3
   },
   "file_extension": ".py",
   "mimetype": "text/x-python",
   "name": "python",
   "nbconvert_exporter": "python",
   "pygments_lexer": "ipython3",
   "version": "3.6.5"
  }
 },
 "nbformat": 4,
 "nbformat_minor": 2
}
