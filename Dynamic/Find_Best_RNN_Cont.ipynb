{
 "cells": [
  {
   "cell_type": "markdown",
   "metadata": {},
   "source": [
    "Finding the best dynamic RNN model was run on AWS because the average CPU time is 20 min. We did not save the output of that python file, so here we load the saved models, compile them with their weights, and validate that the 32-32 model performs the best on validation data."
   ]
  },
  {
   "cell_type": "code",
   "execution_count": 1,
   "metadata": {},
   "outputs": [
    {
     "name": "stderr",
     "output_type": "stream",
     "text": [
      "/anaconda3/lib/python3.6/site-packages/h5py/__init__.py:36: FutureWarning: Conversion of the second argument of issubdtype from `float` to `np.floating` is deprecated. In future, it will be treated as `np.float64 == np.dtype(float).type`.\n",
      "  from ._conv import register_converters as _register_converters\n"
     ]
    }
   ],
   "source": [
    "%run ../MLHCExperiment-Common-Val17Test18.ipynb"
   ]
  },
  {
   "cell_type": "code",
   "execution_count": 2,
   "metadata": {},
   "outputs": [],
   "source": [
    "all_visits = read_data()\n",
    "all_visits = all_visits.where(all_visits[\"AdjCount\"] > 0).dropna()"
   ]
  },
  {
   "cell_type": "code",
   "execution_count": 3,
   "metadata": {},
   "outputs": [],
   "source": [
    "epochs = 300\n",
    "patience = 5\n",
    "trials = 1"
   ]
  },
  {
   "cell_type": "code",
   "execution_count": 4,
   "metadata": {
    "scrolled": true
   },
   "outputs": [],
   "source": [
    "def run_dynamic_rnn(filename, first_layer_size, second_layer_size, name,\n",
    "                    features, label):\n",
    "    print(name)\n",
    "    X = all_visits[features]\n",
    "    y = all_visits[label]\n",
    "\n",
    "    val_mses = list()\n",
    "    mses = list()\n",
    "    early_stop = keras.callbacks.EarlyStopping(monitor='val_mean_squared_error',\n",
    "                                               patience=patience, restore_best_weights=True)\n",
    "\n",
    "    for j in range(trials):\n",
    "        start = time.time()\n",
    "        #print(\"Trial %d\" % (j + 1))\n",
    "\n",
    "        features_min_max = preprocessing.MinMaxScaler()\n",
    "        X_train, y_train, X_val, y_val, X_test, y_test = split_for_baseline_and_nn(X, y)\n",
    "\n",
    "        model = compile_rnn_weights_from_file(filename, X_train, first_layer_size, second_layer_size)\n",
    "\n",
    "        X_train_t = reshape_for_rnn(features_min_max.fit_transform(X_train))\n",
    "        X_val_t = reshape_for_rnn(features_min_max.transform(X_val))\n",
    "        X_test_t = reshape_for_rnn(features_min_max.transform(X_test))\n",
    "            \n",
    "        y_val_pred = model.predict(X_val_t, batch_size=1)\n",
    "        y_pred = model.predict(X_test_t, batch_size=1)\n",
    "        val_mses.append(mean_squared_error(y_val_pred, y_val))\n",
    "        mses.append(mean_squared_error(y_pred, y_test))\n",
    "        end = time.time()\n",
    "        print(\"Trial completed in %.2f s\" % (end - start))\n",
    "    \n",
    "    return val_mses, mses, y_pred"
   ]
  },
  {
   "cell_type": "code",
   "execution_count": 7,
   "metadata": {
    "scrolled": true
   },
   "outputs": [
    {
     "name": "stdout",
     "output_type": "stream",
     "text": [
      "64-64\n",
      "RNNModels/64-64/Dynamic-RNN-AllVisits-64-64-Trial3-1562305234.6405256.h5\n",
      "Trial completed in 6.14 s\n",
      "RNNModels/64-64/Dynamic-RNN-AllVisits-64-64-Trial1-1562303707.4653575.h5\n",
      "Trial completed in 6.56 s\n",
      "RNNModels/64-64/Dynamic-RNN-AllVisits-64-64-Trial4-1562305849.0060897.h5\n",
      "Trial completed in 6.35 s\n",
      "RNNModels/64-64/Dynamic-RNN-AllVisits-64-64-Trial2-1562304439.9532201.h5\n",
      "Trial completed in 7.31 s\n",
      "RNNModels/64-64/Dynamic-RNN-AllVisits-64-64-Trial0-1562302921.312181.h5\n",
      "Trial completed in 7.21 s\n",
      "MSE and RMSE over 10 trials with standard deviation in parentheses\n",
      "Average MSE: 0.717 (0.005)\n",
      "Average RMSE: 0.847 (0.003)\n",
      "Best model 64-64\n",
      "Min Val MSE 0.71734\n",
      "64-32\n",
      "RNNModels/64-32/Dynamic-RNN-AllVisits-64-32-Trial3-1562309408.0298276.h5\n",
      "Trial completed in 7.62 s\n",
      "RNNModels/64-32/Dynamic-RNN-AllVisits-64-32-Trial4-1562310198.6327813.h5\n",
      "Trial completed in 7.87 s\n",
      "RNNModels/64-32/Dynamic-RNN-AllVisits-64-32-Trial1-1562307769.6175947.h5\n",
      "Trial completed in 8.64 s\n",
      "RNNModels/64-32/Dynamic-RNN-AllVisits-64-32-Trial2-1562308652.2412608.h5\n",
      "Trial completed in 9.06 s\n",
      "RNNModels/64-32/Dynamic-RNN-AllVisits-64-32-Trial0-1562306850.1827445.h5\n",
      "Trial completed in 9.30 s\n",
      "MSE and RMSE over 10 trials with standard deviation in parentheses\n",
      "Average MSE: 0.719 (0.005)\n",
      "Average RMSE: 0.848 (0.003)\n",
      "Best model 64-64\n",
      "Min Val MSE 0.71734\n",
      "64-16\n",
      "RNNModels/64-16/Dynamic-RNN-AllVisits-64-16-Trial1-1562311845.4924283.h5\n",
      "Trial completed in 9.70 s\n",
      "RNNModels/64-16/Dynamic-RNN-AllVisits-64-16-Trial2-1562312736.0775466.h5\n",
      "Trial completed in 10.24 s\n",
      "RNNModels/64-16/Dynamic-RNN-AllVisits-64-16-Trial4-1562314675.5489564.h5\n",
      "Trial completed in 10.90 s\n",
      "RNNModels/64-16/Dynamic-RNN-AllVisits-64-16-Trial3-1562313718.7428586.h5\n",
      "Trial completed in 11.09 s\n",
      "RNNModels/64-16/Dynamic-RNN-AllVisits-64-16-Trial0-1562311040.2823577.h5\n",
      "Trial completed in 11.53 s\n",
      "MSE and RMSE over 10 trials with standard deviation in parentheses\n",
      "Average MSE: 0.720 (0.005)\n",
      "Average RMSE: 0.849 (0.003)\n",
      "Best model 64-64\n",
      "Min Val MSE 0.71734\n",
      "32-32\n",
      "RNNModels/32-32Best/Dynamic-RNN-AllVisits-32-32-Trial0-1562316203.5722883.h5\n",
      "Trial completed in 11.98 s\n",
      "RNNModels/32-32Best/Dynamic-RNN-AllVisits-32-32-Trial2-1562318933.3989708.h5\n",
      "Trial completed in 12.56 s\n",
      "RNNModels/32-32Best/Dynamic-RNN-AllVisits-32-32-Trial4-1562322144.5695276.h5\n",
      "Trial completed in 13.36 s\n",
      "RNNModels/32-32Best/Dynamic-RNN-AllVisits-32-32-Trial3-1562320836.649595.h5\n",
      "Trial completed in 13.43 s\n",
      "RNNModels/32-32Best/Dynamic-RNN-AllVisits-32-32-Trial1-1562317741.1352634.h5\n",
      "Trial completed in 13.93 s\n",
      "MSE and RMSE over 10 trials with standard deviation in parentheses\n",
      "Average MSE: 0.710 (0.006)\n",
      "Average RMSE: 0.843 (0.003)\n",
      "Best model 32-32\n",
      "Min Val MSE 0.71017\n",
      "32-16\n",
      "RNNModels/32-16/Dynamic-RNN-AllVisits-32-16-Trial0-1562323427.716574.h5\n",
      "Trial completed in 14.42 s\n",
      "RNNModels/32-16/Dynamic-RNN-AllVisits-32-16-Trial1-1562324848.774883.h5\n",
      "Trial completed in 14.75 s\n",
      "RNNModels/32-16/Dynamic-RNN-AllVisits-32-16-Trial2-1562325937.957211.h5\n",
      "Trial completed in 15.36 s\n",
      "RNNModels/32-16/Dynamic-RNN-AllVisits-32-16-Trial4-1562328964.8270013.h5\n",
      "Trial completed in 16.04 s\n",
      "RNNModels/32-16/Dynamic-RNN-AllVisits-32-16-Trial3-1562327748.839671.h5\n",
      "Trial completed in 16.22 s\n",
      "MSE and RMSE over 10 trials with standard deviation in parentheses\n",
      "Average MSE: 0.710 (0.006)\n",
      "Average RMSE: 0.843 (0.004)\n",
      "Best model 32-32\n",
      "Min Val MSE 0.71017\n",
      "32-8\n",
      "RNNModels/32-8/Dynamic-RNN-AllVisits-32-8-Trial2-1562333011.8014703.h5\n",
      "Trial completed in 16.78 s\n",
      "RNNModels/32-8/Dynamic-RNN-AllVisits-32-8-Trial4-1562335803.0272052.h5\n",
      "Trial completed in 17.24 s\n",
      "RNNModels/32-8/Dynamic-RNN-AllVisits-32-8-Trial3-1562334331.7956104.h5\n",
      "Trial completed in 17.60 s\n",
      "RNNModels/32-8/Dynamic-RNN-AllVisits-32-8-Trial1-1562331792.8184147.h5\n",
      "Trial completed in 18.19 s\n",
      "RNNModels/32-8/Dynamic-RNN-AllVisits-32-8-Trial0-1562330429.047994.h5\n",
      "Trial completed in 18.73 s\n",
      "MSE and RMSE over 10 trials with standard deviation in parentheses\n",
      "Average MSE: 0.716 (0.006)\n",
      "Average RMSE: 0.846 (0.004)\n",
      "Best model 32-32\n",
      "Min Val MSE 0.71017\n",
      "Best model overall is 32-32 with avg test MSE 1.085\n"
     ]
    }
   ],
   "source": [
    "best_model = \"64-64\"\n",
    "min_v_mse = 9999\n",
    "mse_dct = dict()\n",
    "\n",
    "for arch in possible_architectures:\n",
    "    print(arch)\n",
    "    filenames = prebuilt_rnn_models[arch]\n",
    "\n",
    "    v_mses = list()\n",
    "    mses = list()\n",
    "    for filename in filenames:\n",
    "        v_mse, mse, _ = run_dynamic_rnn(\"../\" + filename, layer_sizes[arch][0],\n",
    "                                          layer_sizes[arch][1], filename, BASE_FEATURES,\n",
    "                                          ALL_VISITS_LABEL)\n",
    "        v_mses.append(v_mse)\n",
    "        mses.append(mse)\n",
    "    \n",
    "    print_mse_metrics(v_mses)\n",
    "    mse_dct[arch] = mses\n",
    "    if np.mean(v_mses) < min_v_mse:\n",
    "        min_v_mse = np.mean(v_mses)\n",
    "        best_model = arch\n",
    "    print(\"Best model %s\" % (best_model))\n",
    "    print(\"Min Val MSE %.5f\" % (min_v_mse))\n",
    "\n",
    "print(\"Best model overall is %s with avg test MSE %.3f\" % (best_model, np.mean(mse_dct[best_model])))"
   ]
  },
  {
   "cell_type": "code",
   "execution_count": null,
   "metadata": {},
   "outputs": [],
   "source": []
  },
  {
   "cell_type": "code",
   "execution_count": null,
   "metadata": {},
   "outputs": [],
   "source": []
  },
  {
   "cell_type": "code",
   "execution_count": null,
   "metadata": {},
   "outputs": [],
   "source": []
  }
 ],
 "metadata": {
  "kernelspec": {
   "display_name": "Python 3",
   "language": "python",
   "name": "python3"
  },
  "language_info": {
   "codemirror_mode": {
    "name": "ipython",
    "version": 3
   },
   "file_extension": ".py",
   "mimetype": "text/x-python",
   "name": "python",
   "nbconvert_exporter": "python",
   "pygments_lexer": "ipython3",
   "version": "3.6.5"
  }
 },
 "nbformat": 4,
 "nbformat_minor": 2
}
